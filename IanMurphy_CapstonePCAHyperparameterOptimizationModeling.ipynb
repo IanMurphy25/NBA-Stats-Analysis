{
 "cells": [
  {
   "cell_type": "markdown",
   "metadata": {},
   "source": [
    "# Ian Murphy \n",
    "# 12/10/20\n",
    "# BrainStation"
   ]
  },
  {
   "cell_type": "markdown",
   "metadata": {},
   "source": [
    "# PCA, Hyperparameter Optimization, and Modeling"
   ]
  },
  {
   "cell_type": "markdown",
   "metadata": {},
   "source": [
    "In this notebook I will preform a Principal Component Analysis, Hyperparameter Optimization and I will run Logistic Regression, Decision Tree, and SVC models on my dataset. "
   ]
  },
  {
   "cell_type": "code",
   "execution_count": 1,
   "metadata": {},
   "outputs": [],
   "source": [
    "# importing some of the tools I need to do the project\n",
    "import pandas as pd \n",
    "import numpy as np \n",
    "import matplotlib.pyplot as plt \n",
    "%matplotlib inline\n",
    "import seaborn as sns\n",
    "from sklearn.preprocessing import StandardScaler\n",
    "from sklearn.model_selection import train_test_split "
   ]
  },
  {
   "cell_type": "code",
   "execution_count": 2,
   "metadata": {},
   "outputs": [
    {
     "data": {
      "text/plain": [
       "(876, 191)"
      ]
     },
     "execution_count": 2,
     "metadata": {},
     "output_type": "execute_result"
    }
   ],
   "source": [
    "# read in the dataframe\n",
    "outcomes_df = pd.read_csv('data/outcomes_df.csv')\n",
    "outcomes_df.shape"
   ]
  },
  {
   "cell_type": "markdown",
   "metadata": {},
   "source": [
    "### Data Dictionary\n",
    "\n",
    "(included in previous notebook, but adding here as well for ease of use)\n",
    "\n",
    "This cell contains a Data Dictionary containing the description for every feature the the dataframe called 'outcomes_df':\n",
    "\n",
    "PER: This stands for Player Efficiency Rating. This is a measure of a player's per-minute productivity. It takes into account all of the positive things a player does, and creates a metric to measure how productive that player is. It is mean to summarize a player's statistical accomplishments in a single number. \n",
    "\n",
    "TSP: This stands for True Shooting Percentage. True shooting percentage is a measure of shooting efficiency that takes into account 2 point field goals, 3-point field goals, and free throws. \n",
    "\n",
    "PER and TSP will be included for the top 12 players on each team. (top 12 by minutes played per game). For example Player1_PER is the PER for the player on that team that played the most minutes per game that season. \n",
    "\n",
    "AVG_PER: This is the average Player Efficiency Rating of the top 12 players on each team. \n",
    "\n",
    "AVG_TSP: This is the average True Shooting Percentage of the top 12 players on each team. \n",
    "\n",
    "Coaches: I will be using dummy variables for coaches. The column titles will be the first initial, and then the last name the coach for each respective season. If the value is 1 then that means that respective coach was the coach of that team that season. If the value is 0, then that coach was not coaching that team, that season. \n",
    "\n",
    "ORtg: This stands for Offensive Rating. It is points scored per 100 possessions by a team. \n",
    "\n",
    "Rel ORtg:This is similar to ORtg, but it is relative to the league average. \n",
    "\n",
    "DRtg: This stands for Defensive Rating. It is the amount of points allowed per 100 posessions by a team.\n",
    "\n",
    "Rel DRtg: This is similar to DRtg, but it is relative to the league average. \n",
    "\n",
    "SRS: This stands for Simple Rating System. This rating takes into account average point differential and strength of schedule. The rating is denominated in points above or below the average, where zero is average. \n",
    "\n",
    "Pace: The Pace factor is an estimate of the number of possessions per 48 minutes by a team. \n",
    "\n",
    "Rel Pace: This is similar to Pace, but it is relative to the league average. \n",
    "\n",
    "Playoffs: This is the target variable. 0 means the team did not make the playoffs that year. 1 Means the team did make the playoffs that year. "
   ]
  },
  {
   "cell_type": "markdown",
   "metadata": {},
   "source": [
    "### PCA\n",
    "\n",
    "I'm conducting PCA for 2 main reasons:\n",
    "1. I have 191 features. My main goal is to identify which features drive regular season success. \n",
    "2. Reducing the complexity of the data reduces the liklihood of overfitting.  \n",
    "\n",
    "My focus in this section of the notebook will be on examining the differences between the original features and Principal Component (PC) features."
   ]
  },
  {
   "cell_type": "code",
   "execution_count": 3,
   "metadata": {},
   "outputs": [
    {
     "data": {
      "text/html": [
       "<div>\n",
       "<style scoped>\n",
       "    .dataframe tbody tr th:only-of-type {\n",
       "        vertical-align: middle;\n",
       "    }\n",
       "\n",
       "    .dataframe tbody tr th {\n",
       "        vertical-align: top;\n",
       "    }\n",
       "\n",
       "    .dataframe thead th {\n",
       "        text-align: right;\n",
       "    }\n",
       "</style>\n",
       "<table border=\"1\" class=\"dataframe\">\n",
       "  <thead>\n",
       "    <tr style=\"text-align: right;\">\n",
       "      <th></th>\n",
       "      <th>Unnamed: 0</th>\n",
       "      <th>Team</th>\n",
       "      <th>Year</th>\n",
       "      <th>player1_PER</th>\n",
       "      <th>player2_PER</th>\n",
       "      <th>player3_PER</th>\n",
       "      <th>player4_PER</th>\n",
       "      <th>player5_PER</th>\n",
       "      <th>player6_PER</th>\n",
       "      <th>player7_PER</th>\n",
       "      <th>...</th>\n",
       "      <th>T. Porter</th>\n",
       "      <th>T. Stotts</th>\n",
       "      <th>T. Thibodeau</th>\n",
       "      <th>V. Del Negro</th>\n",
       "      <th>W. Unseld</th>\n",
       "      <th>Division</th>\n",
       "      <th>AVG_PER</th>\n",
       "      <th>AVG_TSP</th>\n",
       "      <th>Location</th>\n",
       "      <th>Playoffs</th>\n",
       "    </tr>\n",
       "  </thead>\n",
       "  <tbody>\n",
       "    <tr>\n",
       "      <th>0</th>\n",
       "      <td>0</td>\n",
       "      <td>NYK</td>\n",
       "      <td>2020</td>\n",
       "      <td>17.5</td>\n",
       "      <td>10.7</td>\n",
       "      <td>23.5</td>\n",
       "      <td>14.6</td>\n",
       "      <td>16.5</td>\n",
       "      <td>16.0</td>\n",
       "      <td>9.8</td>\n",
       "      <td>...</td>\n",
       "      <td>0</td>\n",
       "      <td>0</td>\n",
       "      <td>0</td>\n",
       "      <td>0</td>\n",
       "      <td>0</td>\n",
       "      <td>0</td>\n",
       "      <td>14.6125</td>\n",
       "      <td>0.536500</td>\n",
       "      <td>New York, NY</td>\n",
       "      <td>0</td>\n",
       "    </tr>\n",
       "    <tr>\n",
       "      <th>1</th>\n",
       "      <td>1</td>\n",
       "      <td>NYK</td>\n",
       "      <td>2019</td>\n",
       "      <td>8.7</td>\n",
       "      <td>10.8</td>\n",
       "      <td>13.9</td>\n",
       "      <td>14.6</td>\n",
       "      <td>14.4</td>\n",
       "      <td>12.2</td>\n",
       "      <td>22.0</td>\n",
       "      <td>...</td>\n",
       "      <td>0</td>\n",
       "      <td>0</td>\n",
       "      <td>0</td>\n",
       "      <td>0</td>\n",
       "      <td>0</td>\n",
       "      <td>0</td>\n",
       "      <td>13.4250</td>\n",
       "      <td>0.547125</td>\n",
       "      <td>New York, NY</td>\n",
       "      <td>0</td>\n",
       "    </tr>\n",
       "    <tr>\n",
       "      <th>2</th>\n",
       "      <td>2</td>\n",
       "      <td>NYK</td>\n",
       "      <td>2018</td>\n",
       "      <td>13.0</td>\n",
       "      <td>14.4</td>\n",
       "      <td>24.0</td>\n",
       "      <td>7.0</td>\n",
       "      <td>17.8</td>\n",
       "      <td>20.4</td>\n",
       "      <td>11.5</td>\n",
       "      <td>...</td>\n",
       "      <td>0</td>\n",
       "      <td>0</td>\n",
       "      <td>0</td>\n",
       "      <td>0</td>\n",
       "      <td>0</td>\n",
       "      <td>0</td>\n",
       "      <td>16.0125</td>\n",
       "      <td>0.546625</td>\n",
       "      <td>New York, NY</td>\n",
       "      <td>0</td>\n",
       "    </tr>\n",
       "    <tr>\n",
       "      <th>3</th>\n",
       "      <td>3</td>\n",
       "      <td>NYK</td>\n",
       "      <td>2017</td>\n",
       "      <td>17.9</td>\n",
       "      <td>12.2</td>\n",
       "      <td>17.4</td>\n",
       "      <td>17.0</td>\n",
       "      <td>12.7</td>\n",
       "      <td>12.7</td>\n",
       "      <td>19.0</td>\n",
       "      <td>...</td>\n",
       "      <td>0</td>\n",
       "      <td>0</td>\n",
       "      <td>0</td>\n",
       "      <td>0</td>\n",
       "      <td>0</td>\n",
       "      <td>0</td>\n",
       "      <td>16.1750</td>\n",
       "      <td>0.542875</td>\n",
       "      <td>New York, NY</td>\n",
       "      <td>0</td>\n",
       "    </tr>\n",
       "    <tr>\n",
       "      <th>4</th>\n",
       "      <td>4</td>\n",
       "      <td>NYK</td>\n",
       "      <td>2016</td>\n",
       "      <td>20.3</td>\n",
       "      <td>10.9</td>\n",
       "      <td>17.6</td>\n",
       "      <td>17.7</td>\n",
       "      <td>11.7</td>\n",
       "      <td>12.3</td>\n",
       "      <td>17.2</td>\n",
       "      <td>...</td>\n",
       "      <td>0</td>\n",
       "      <td>0</td>\n",
       "      <td>0</td>\n",
       "      <td>0</td>\n",
       "      <td>0</td>\n",
       "      <td>0</td>\n",
       "      <td>14.7625</td>\n",
       "      <td>0.540125</td>\n",
       "      <td>New York, NY</td>\n",
       "      <td>0</td>\n",
       "    </tr>\n",
       "  </tbody>\n",
       "</table>\n",
       "<p>5 rows × 191 columns</p>\n",
       "</div>"
      ],
      "text/plain": [
       "   Unnamed: 0 Team  Year  player1_PER  player2_PER  player3_PER  player4_PER  \\\n",
       "0           0  NYK  2020         17.5         10.7         23.5         14.6   \n",
       "1           1  NYK  2019          8.7         10.8         13.9         14.6   \n",
       "2           2  NYK  2018         13.0         14.4         24.0          7.0   \n",
       "3           3  NYK  2017         17.9         12.2         17.4         17.0   \n",
       "4           4  NYK  2016         20.3         10.9         17.6         17.7   \n",
       "\n",
       "   player5_PER  player6_PER  player7_PER  ...  T. Porter   T. Stotts   \\\n",
       "0         16.5         16.0          9.8  ...           0           0   \n",
       "1         14.4         12.2         22.0  ...           0           0   \n",
       "2         17.8         20.4         11.5  ...           0           0   \n",
       "3         12.7         12.7         19.0  ...           0           0   \n",
       "4         11.7         12.3         17.2  ...           0           0   \n",
       "\n",
       "   T. Thibodeau   V. Del Negro   W. Unseld   Division  AVG_PER   AVG_TSP  \\\n",
       "0              0              0           0         0  14.6125  0.536500   \n",
       "1              0              0           0         0  13.4250  0.547125   \n",
       "2              0              0           0         0  16.0125  0.546625   \n",
       "3              0              0           0         0  16.1750  0.542875   \n",
       "4              0              0           0         0  14.7625  0.540125   \n",
       "\n",
       "       Location  Playoffs  \n",
       "0  New York, NY         0  \n",
       "1  New York, NY         0  \n",
       "2  New York, NY         0  \n",
       "3  New York, NY         0  \n",
       "4  New York, NY         0  \n",
       "\n",
       "[5 rows x 191 columns]"
      ]
     },
     "execution_count": 3,
     "metadata": {},
     "output_type": "execute_result"
    }
   ],
   "source": [
    "# lets check the dataframe \n",
    "outcomes_df.head()"
   ]
  },
  {
   "cell_type": "code",
   "execution_count": 4,
   "metadata": {},
   "outputs": [],
   "source": [
    "# seems to be an extra column called 'Unnamed: 0', need to drop this before I get started \n",
    "outcomes_df.drop('Unnamed: 0', axis = 1, inplace = True)"
   ]
  },
  {
   "cell_type": "markdown",
   "metadata": {},
   "source": [
    "I will not be using Team, Year, or Location data in my modeling because my goal is to determine what factors drive regular season success. Not whether certain teams make it more often. "
   ]
  },
  {
   "cell_type": "code",
   "execution_count": 5,
   "metadata": {},
   "outputs": [],
   "source": [
    "# dropping team, year, and location \n",
    "outcomes_df.drop(['Team', 'Year', 'Location'], axis = 1, inplace = True)"
   ]
  },
  {
   "cell_type": "code",
   "execution_count": 6,
   "metadata": {},
   "outputs": [
    {
     "data": {
      "text/plain": [
       "array([dtype('float64'), dtype('int64')], dtype=object)"
      ]
     },
     "execution_count": 6,
     "metadata": {},
     "output_type": "execute_result"
    }
   ],
   "source": [
    "# checking the different datatypes, should only be int and float \n",
    "outcomes_df.dtypes.unique()"
   ]
  },
  {
   "cell_type": "markdown",
   "metadata": {},
   "source": [
    "Now I can begin PCA. I will set the X and y and then split the data into train and test. "
   ]
  },
  {
   "cell_type": "code",
   "execution_count": 7,
   "metadata": {},
   "outputs": [],
   "source": [
    "# Saving original features to X \n",
    "X = outcomes_df.iloc[:,:-1]\n",
    "\n",
    "# Saving target to y \n",
    "y = outcomes_df['Playoffs']"
   ]
  },
  {
   "cell_type": "code",
   "execution_count": 8,
   "metadata": {},
   "outputs": [],
   "source": [
    "# checking shape of X and y. Should be 876, 186 and 876, 1 respectively "
   ]
  },
  {
   "cell_type": "code",
   "execution_count": 9,
   "metadata": {},
   "outputs": [
    {
     "name": "stdout",
     "output_type": "stream",
     "text": [
      "(876, 186)\n",
      "(876,)\n"
     ]
    }
   ],
   "source": [
    "# looks good, I can move forward\n",
    "print(X.shape)\n",
    "print(y.shape)"
   ]
  },
  {
   "cell_type": "code",
   "execution_count": 10,
   "metadata": {},
   "outputs": [],
   "source": [
    "# splitting into train and test \n",
    "X_train, X_test, y_train, y_test = train_test_split(X, y, test_size=0.25, stratify=y, random_state=1)"
   ]
  },
  {
   "cell_type": "code",
   "execution_count": 11,
   "metadata": {},
   "outputs": [],
   "source": [
    "# scaling the data set\n",
    "# instantiate and fit to training data only\n",
    "SS = StandardScaler().fit(X_train)\n",
    "\n",
    "# Transform the data sets \n",
    "X_train = SS.transform(X_train)\n",
    "X_test = SS.transform(X_test)"
   ]
  },
  {
   "cell_type": "code",
   "execution_count": 12,
   "metadata": {},
   "outputs": [
    {
     "data": {
      "text/html": [
       "<div>\n",
       "<style scoped>\n",
       "    .dataframe tbody tr th:only-of-type {\n",
       "        vertical-align: middle;\n",
       "    }\n",
       "\n",
       "    .dataframe tbody tr th {\n",
       "        vertical-align: top;\n",
       "    }\n",
       "\n",
       "    .dataframe thead th {\n",
       "        text-align: right;\n",
       "    }\n",
       "</style>\n",
       "<table border=\"1\" class=\"dataframe\">\n",
       "  <thead>\n",
       "    <tr style=\"text-align: right;\">\n",
       "      <th></th>\n",
       "      <th>player1_PER</th>\n",
       "      <th>player2_PER</th>\n",
       "      <th>player3_PER</th>\n",
       "      <th>player4_PER</th>\n",
       "      <th>player5_PER</th>\n",
       "      <th>player6_PER</th>\n",
       "      <th>player7_PER</th>\n",
       "      <th>player8_PER</th>\n",
       "      <th>player9_PER</th>\n",
       "      <th>player10_PER</th>\n",
       "      <th>...</th>\n",
       "      <th>T. Jenkins</th>\n",
       "      <th>T. Lue</th>\n",
       "      <th>T. Porter</th>\n",
       "      <th>T. Stotts</th>\n",
       "      <th>T. Thibodeau</th>\n",
       "      <th>V. Del Negro</th>\n",
       "      <th>W. Unseld</th>\n",
       "      <th>Division</th>\n",
       "      <th>AVG_PER</th>\n",
       "      <th>AVG_TSP</th>\n",
       "    </tr>\n",
       "  </thead>\n",
       "  <tbody>\n",
       "    <tr>\n",
       "      <th>0</th>\n",
       "      <td>-0.077248</td>\n",
       "      <td>0.064088</td>\n",
       "      <td>0.290978</td>\n",
       "      <td>-0.334864</td>\n",
       "      <td>-0.286973</td>\n",
       "      <td>-0.271492</td>\n",
       "      <td>-0.139697</td>\n",
       "      <td>0.348285</td>\n",
       "      <td>1.302058</td>\n",
       "      <td>1.070368</td>\n",
       "      <td>...</td>\n",
       "      <td>-0.039043</td>\n",
       "      <td>-0.067729</td>\n",
       "      <td>-0.055258</td>\n",
       "      <td>-0.111025</td>\n",
       "      <td>-0.103775</td>\n",
       "      <td>-0.055258</td>\n",
       "      <td>-0.067729</td>\n",
       "      <td>0.931567</td>\n",
       "      <td>-0.156974</td>\n",
       "      <td>-0.305140</td>\n",
       "    </tr>\n",
       "    <tr>\n",
       "      <th>1</th>\n",
       "      <td>0.531506</td>\n",
       "      <td>-0.998268</td>\n",
       "      <td>-0.609364</td>\n",
       "      <td>-1.212254</td>\n",
       "      <td>0.261466</td>\n",
       "      <td>0.335106</td>\n",
       "      <td>0.397033</td>\n",
       "      <td>-0.315429</td>\n",
       "      <td>1.120002</td>\n",
       "      <td>1.552220</td>\n",
       "      <td>...</td>\n",
       "      <td>-0.039043</td>\n",
       "      <td>-0.067729</td>\n",
       "      <td>-0.055258</td>\n",
       "      <td>9.006942</td>\n",
       "      <td>-0.103775</td>\n",
       "      <td>-0.055258</td>\n",
       "      <td>-0.067729</td>\n",
       "      <td>-0.854540</td>\n",
       "      <td>-0.661797</td>\n",
       "      <td>-0.399337</td>\n",
       "    </tr>\n",
       "    <tr>\n",
       "      <th>2</th>\n",
       "      <td>1.117713</td>\n",
       "      <td>0.193643</td>\n",
       "      <td>0.263695</td>\n",
       "      <td>-0.397535</td>\n",
       "      <td>-0.835413</td>\n",
       "      <td>-0.028853</td>\n",
       "      <td>0.049737</td>\n",
       "      <td>-1.516434</td>\n",
       "      <td>-0.609533</td>\n",
       "      <td>0.046434</td>\n",
       "      <td>...</td>\n",
       "      <td>-0.039043</td>\n",
       "      <td>-0.067729</td>\n",
       "      <td>-0.055258</td>\n",
       "      <td>-0.111025</td>\n",
       "      <td>-0.103775</td>\n",
       "      <td>-0.055258</td>\n",
       "      <td>-0.067729</td>\n",
       "      <td>0.931567</td>\n",
       "      <td>-0.255476</td>\n",
       "      <td>-0.205403</td>\n",
       "    </tr>\n",
       "    <tr>\n",
       "      <th>3</th>\n",
       "      <td>-0.618363</td>\n",
       "      <td>-0.972357</td>\n",
       "      <td>1.464152</td>\n",
       "      <td>-0.522876</td>\n",
       "      <td>-0.957288</td>\n",
       "      <td>-0.908419</td>\n",
       "      <td>0.933763</td>\n",
       "      <td>-1.168774</td>\n",
       "      <td>-0.397134</td>\n",
       "      <td>2.064187</td>\n",
       "      <td>...</td>\n",
       "      <td>-0.039043</td>\n",
       "      <td>-0.067729</td>\n",
       "      <td>-0.055258</td>\n",
       "      <td>-0.111025</td>\n",
       "      <td>-0.103775</td>\n",
       "      <td>-0.055258</td>\n",
       "      <td>-0.067729</td>\n",
       "      <td>-0.854540</td>\n",
       "      <td>-1.191246</td>\n",
       "      <td>-1.335758</td>\n",
       "    </tr>\n",
       "    <tr>\n",
       "      <th>4</th>\n",
       "      <td>-0.302713</td>\n",
       "      <td>-0.480046</td>\n",
       "      <td>1.546001</td>\n",
       "      <td>0.135167</td>\n",
       "      <td>1.206001</td>\n",
       "      <td>1.760611</td>\n",
       "      <td>-0.707999</td>\n",
       "      <td>-0.947537</td>\n",
       "      <td>0.361434</td>\n",
       "      <td>0.317476</td>\n",
       "      <td>...</td>\n",
       "      <td>-0.039043</td>\n",
       "      <td>-0.067729</td>\n",
       "      <td>-0.055258</td>\n",
       "      <td>-0.111025</td>\n",
       "      <td>-0.103775</td>\n",
       "      <td>-0.055258</td>\n",
       "      <td>-0.067729</td>\n",
       "      <td>-0.259171</td>\n",
       "      <td>0.914237</td>\n",
       "      <td>0.370856</td>\n",
       "    </tr>\n",
       "  </tbody>\n",
       "</table>\n",
       "<p>5 rows × 186 columns</p>\n",
       "</div>"
      ],
      "text/plain": [
       "   player1_PER  player2_PER  player3_PER  player4_PER  player5_PER  \\\n",
       "0    -0.077248     0.064088     0.290978    -0.334864    -0.286973   \n",
       "1     0.531506    -0.998268    -0.609364    -1.212254     0.261466   \n",
       "2     1.117713     0.193643     0.263695    -0.397535    -0.835413   \n",
       "3    -0.618363    -0.972357     1.464152    -0.522876    -0.957288   \n",
       "4    -0.302713    -0.480046     1.546001     0.135167     1.206001   \n",
       "\n",
       "   player6_PER  player7_PER  player8_PER  player9_PER  player10_PER  ...  \\\n",
       "0    -0.271492    -0.139697     0.348285     1.302058      1.070368  ...   \n",
       "1     0.335106     0.397033    -0.315429     1.120002      1.552220  ...   \n",
       "2    -0.028853     0.049737    -1.516434    -0.609533      0.046434  ...   \n",
       "3    -0.908419     0.933763    -1.168774    -0.397134      2.064187  ...   \n",
       "4     1.760611    -0.707999    -0.947537     0.361434      0.317476  ...   \n",
       "\n",
       "   T. Jenkins    T. Lue   T. Porter   T. Stotts   T. Thibodeau   \\\n",
       "0    -0.039043 -0.067729   -0.055258   -0.111025      -0.103775   \n",
       "1    -0.039043 -0.067729   -0.055258    9.006942      -0.103775   \n",
       "2    -0.039043 -0.067729   -0.055258   -0.111025      -0.103775   \n",
       "3    -0.039043 -0.067729   -0.055258   -0.111025      -0.103775   \n",
       "4    -0.039043 -0.067729   -0.055258   -0.111025      -0.103775   \n",
       "\n",
       "   V. Del Negro   W. Unseld   Division   AVG_PER   AVG_TSP  \n",
       "0      -0.055258   -0.067729  0.931567 -0.156974 -0.305140  \n",
       "1      -0.055258   -0.067729 -0.854540 -0.661797 -0.399337  \n",
       "2      -0.055258   -0.067729  0.931567 -0.255476 -0.205403  \n",
       "3      -0.055258   -0.067729 -0.854540 -1.191246 -1.335758  \n",
       "4      -0.055258   -0.067729 -0.259171  0.914237  0.370856  \n",
       "\n",
       "[5 rows x 186 columns]"
      ]
     },
     "metadata": {},
     "output_type": "display_data"
    },
    {
     "name": "stdout",
     "output_type": "stream",
     "text": [
      "(657, 186)\n"
     ]
    }
   ],
   "source": [
    "# Putting X_train into a dataframe\n",
    "X_train = pd.DataFrame(X_train, columns=X.columns)\n",
    "\n",
    "# Check it out \n",
    "display(X_train.head())\n",
    "print(X_train.shape)"
   ]
  },
  {
   "cell_type": "markdown",
   "metadata": {},
   "source": [
    "In the cell below I will reduce the number of features using PCA. Then I will run 2 logistic regressions, one using every feature and one using only the principal component features. \n",
    "\n",
    "I decided not to choose a number of principal components, but rather to set the variance of the input that is supposed to be explained. I set the parameter to 0.95. This means the PCA will select the features that explain 95% of the variance as the principal components. "
   ]
  },
  {
   "cell_type": "code",
   "execution_count": 13,
   "metadata": {},
   "outputs": [],
   "source": [
    "from sklearn.decomposition import PCA\n",
    "from sklearn.linear_model import LogisticRegression\n",
    "\n",
    "# instantiate and fit to scaled training data\n",
    "vote_pca = PCA(n_components=0.95).fit(X_train)\n",
    "\n",
    "# transform train and test sets \n",
    "X_train_PC = vote_pca.transform(X_train)\n",
    "X_test_PC = vote_pca.transform(X_test)"
   ]
  },
  {
   "cell_type": "code",
   "execution_count": 14,
   "metadata": {},
   "outputs": [
    {
     "name": "stdout",
     "output_type": "stream",
     "text": [
      "0.9512937595129376\n",
      "0.8812785388127854\n"
     ]
    }
   ],
   "source": [
    "# running logistic regression on all the original features\n",
    "log_no = LogisticRegression(C=0.1) \n",
    "\n",
    "log_no.fit(X_train, y_train)\n",
    "\n",
    "print(log_no.score(X_train, y_train))\n",
    "print(log_no.score(X_test, y_test))"
   ]
  },
  {
   "cell_type": "code",
   "execution_count": 15,
   "metadata": {},
   "outputs": [
    {
     "name": "stdout",
     "output_type": "stream",
     "text": [
      "0.9406392694063926\n",
      "0.8858447488584474\n"
     ]
    }
   ],
   "source": [
    "# now running the logistic regression on only the PCs \n",
    "log_pc = LogisticRegression(C=0.1) \n",
    "\n",
    "log_pc.fit(X_train_PC, y_train)\n",
    "\n",
    "print(log_pc.score(X_train_PC, y_train))\n",
    "print(log_pc.score(X_test_PC, y_test))"
   ]
  },
  {
   "cell_type": "code",
   "execution_count": 16,
   "metadata": {},
   "outputs": [
    {
     "name": "stdout",
     "output_type": "stream",
     "text": [
      "(657, 148)\n",
      "(657, 186)\n"
     ]
    }
   ],
   "source": [
    "print(X_train_PC.shape)\n",
    "print(X_train.shape)"
   ]
  },
  {
   "cell_type": "markdown",
   "metadata": {},
   "source": [
    "I was able to reduce the number of features by 38 and produce almost identical results in terms of model accuracy. "
   ]
  },
  {
   "cell_type": "markdown",
   "metadata": {},
   "source": [
    "### Hyperparameter Optimization and Modeling\n",
    "\n",
    "I am going to use the K-Fold Cross Validation method for Hyperparameter Optimization. "
   ]
  },
  {
   "cell_type": "markdown",
   "metadata": {},
   "source": [
    "GridSearchCV: I'm going to use this technique to decide search through models and hyper parameters to find the best model for my data. I already performed PCA on the data and have saved my principal components (PCs). Moving forward I will only use the PCs in my modeling. "
   ]
  },
  {
   "cell_type": "code",
   "execution_count": 17,
   "metadata": {},
   "outputs": [
    {
     "name": "stdout",
     "output_type": "stream",
     "text": [
      "Fitting 5 folds for each of 141 candidates, totalling 705 fits\n"
     ]
    },
    {
     "name": "stderr",
     "output_type": "stream",
     "text": [
      "[Parallel(n_jobs=-1)]: Using backend LokyBackend with 8 concurrent workers.\n",
      "[Parallel(n_jobs=-1)]: Done  34 tasks      | elapsed:    2.5s\n",
      "[Parallel(n_jobs=-1)]: Done 705 out of 705 | elapsed:    7.1s finished\n"
     ]
    },
    {
     "data": {
      "text/plain": [
       "GridSearchCV(estimator=Pipeline(steps=[('scale', StandardScaler()),\n",
       "                                       ('model', LogisticRegression())]),\n",
       "             n_jobs=-1,\n",
       "             param_grid=[{'model': [LogisticRegression(C=0.1)],\n",
       "                          'model__C': [1e-08, 1e-07, 1e-06, 1e-05, 0.0001,\n",
       "                                       0.001, 0.1, 1, 10, 100, 1000, 10000,\n",
       "                                       100000, 1000000, 10000000, 100000000,\n",
       "                                       1000000000],\n",
       "                          'model__penalty': ['l1', 'l2'],\n",
       "                          'scale': [StandardScaler(), MinMaxScaler(), None]},\n",
       "                         {'model': [DecisionTreeClassifier()],\n",
       "                          'model__max_depth': [1, 2, 3, 4, 5],\n",
       "                          'scale': [StandardScaler(), MinMaxScaler(), None]},\n",
       "                         {'model': [SVC()], 'model__C': [0.1, 1, 10, 100],\n",
       "                          'model__kernel': ['linear', 'rbf'],\n",
       "                          'scale': [StandardScaler(), MinMaxScaler(), None]}],\n",
       "             verbose=1)"
      ]
     },
     "execution_count": 17,
     "metadata": {},
     "output_type": "execute_result"
    }
   ],
   "source": [
    "from sklearn.model_selection import GridSearchCV\n",
    "from sklearn.preprocessing import StandardScaler, MinMaxScaler\n",
    "from sklearn.decomposition import PCA\n",
    "from sklearn.linear_model import LogisticRegression\n",
    "from sklearn.model_selection import cross_val_score\n",
    "from sklearn.pipeline import Pipeline\n",
    "from sklearn.svm import SVC\n",
    "from sklearn.neighbors import KNeighborsClassifier\n",
    "from sklearn.tree import DecisionTreeClassifier\n",
    "\n",
    "# set up the (placeholder) pipeline \n",
    "pipeline = Pipeline([('scale', StandardScaler()),\n",
    "                    ('model', LogisticRegression())])\n",
    "\n",
    "# set up the parameter grid\n",
    "param_grid = [\n",
    "            {\n",
    "                'scale':[StandardScaler(), MinMaxScaler(), None],\n",
    "                'model':[LogisticRegression()],\n",
    "                'model__C': [.00000001,.0000001,.000001,.00001,.0001,.001,.1,\\\n",
    "                1,10,100,1000,10000,100000,1000000,10000000,100000000,1000000000],\n",
    "                'model__penalty': ['l1', 'l2']\n",
    "            },\n",
    "    {\n",
    "                'scale':[StandardScaler(), MinMaxScaler(), None],\n",
    "                'model':[DecisionTreeClassifier()],\n",
    "                'model__max_depth': [1,2,3,4,5]\n",
    "\n",
    "    },\n",
    "    {\n",
    "                'scale':[StandardScaler(), MinMaxScaler(), None],\n",
    "                'model':[SVC()],\n",
    "                'model__C': [0.1, 1, 10, 100],\n",
    "                'model__kernel': ['linear', 'rbf']\n",
    "\n",
    "    },\n",
    "]\n",
    "\n",
    "# instantiate the grid search\n",
    "my_gridsearch = GridSearchCV(pipeline, param_grid, n_jobs=-1, verbose=1)\n",
    "\n",
    "# fit the grid search\n",
    "my_gridsearch.fit(X_train_PC, y_train)"
   ]
  },
  {
   "cell_type": "code",
   "execution_count": 18,
   "metadata": {},
   "outputs": [
    {
     "data": {
      "text/plain": [
       "{'model': LogisticRegression(C=0.1),\n",
       " 'model__C': 0.1,\n",
       " 'model__penalty': 'l2',\n",
       " 'scale': None}"
      ]
     },
     "execution_count": 18,
     "metadata": {},
     "output_type": "execute_result"
    }
   ],
   "source": [
    "my_gridsearch.best_params_"
   ]
  },
  {
   "cell_type": "code",
   "execution_count": 19,
   "metadata": {},
   "outputs": [
    {
     "name": "stdout",
     "output_type": "stream",
     "text": [
      "0.9406392694063926\n",
      "0.8858447488584474\n"
     ]
    }
   ],
   "source": [
    "print(my_gridsearch.score(X_train_PC, y_train))\n",
    "print(my_gridsearch.score(X_test_PC, y_test))"
   ]
  },
  {
   "cell_type": "markdown",
   "metadata": {},
   "source": [
    "I want to create a bar graph of the top and bottom 10 regression coefficients. To do this I am going to run the same model as above, and then create a coefficient dictionary. I am re running the same model because I cannot pull out the stimated coefficients using a pipeline. "
   ]
  },
  {
   "cell_type": "code",
   "execution_count": 20,
   "metadata": {},
   "outputs": [
    {
     "data": {
      "text/plain": [
       "LogisticRegression(C=0.1)"
      ]
     },
     "execution_count": 20,
     "metadata": {},
     "output_type": "execute_result"
    }
   ],
   "source": [
    "# instantiate \n",
    "logreg = LogisticRegression(C = .1, penalty = 'l2')\n",
    "\n",
    "# fit\n",
    "logreg.fit(X_train_PC, y_train)"
   ]
  },
  {
   "cell_type": "code",
   "execution_count": 21,
   "metadata": {},
   "outputs": [
    {
     "data": {
      "text/plain": [
       "0.9406392694063926"
      ]
     },
     "execution_count": 21,
     "metadata": {},
     "output_type": "execute_result"
    }
   ],
   "source": [
    "logreg.score(X_train_PC, y_train)"
   ]
  },
  {
   "cell_type": "code",
   "execution_count": 22,
   "metadata": {},
   "outputs": [],
   "source": [
    "# building the dictionary of coefficients \n",
    "coef_dict = {}\n",
    "for coef, feat in zip(logreg.coef_[0,:],X_train):\n",
    "    coef_dict[feat] = coef"
   ]
  },
  {
   "cell_type": "code",
   "execution_count": 23,
   "metadata": {},
   "outputs": [],
   "source": [
    "# sorting the dictionary into a list, then changing back to a dictionary \n",
    "sorted_coef_dict = sorted(coef_dict.items(), key=lambda x: x[1], reverse = True)\n",
    "\n",
    "# change back to dictionary \n",
    "sorted_coef_dict = dict(sorted_coef_dict)"
   ]
  },
  {
   "cell_type": "code",
   "execution_count": 24,
   "metadata": {},
   "outputs": [
    {
     "data": {
      "image/png": "[encoded data removed]",
      "text/plain": [
       "<Figure size 432x288 with 1 Axes>"
      ]
     },
     "metadata": {
      "needs_background": "light"
     },
     "output_type": "display_data"
    }
   ],
   "source": [
    "# now creating the bar graphs \n",
    "import matplotlib.pyplot as plt\n",
    "import seaborn as sns\n",
    "keys = sorted_coef_dict.keys()\n",
    "values = sorted_coef_dict.values()\n",
    "\n",
    "coef_df = pd.DataFrame({'Feature': sorted_coef_dict.keys(),\n",
    "                        'Coefficient': sorted_coef_dict.values()})\n",
    "\n",
    "\n",
    "coef_df.sort_values(by='Coefficient', ascending=False).head(10).set_index(\"Feature\").plot(kind=\"bar\", rot=45)\n",
    "plt.show()\n",
    "             "
   ]
  },
  {
   "cell_type": "code",
   "execution_count": 25,
   "metadata": {},
   "outputs": [
    {
     "data": {
      "text/plain": [
       "<Figure size 432x288 with 0 Axes>"
      ]
     },
     "metadata": {},
     "output_type": "display_data"
    },
    {
     "data": {
      "image/png": "[encoded data removed]",
      "text/plain": [
       "<Figure size 432x288 with 1 Axes>"
      ]
     },
     "metadata": {
      "needs_background": "light"
     },
     "output_type": "display_data"
    }
   ],
   "source": [
    "plt.figure()\n",
    "coef_df.sort_values(by='Coefficient', ascending=False).tail(10).set_index(\"Feature\").plot(color = 'red', kind=\"bar\", rot=45)\n",
    "plt.show()\n"
   ]
  },
  {
   "cell_type": "markdown",
   "metadata": {},
   "source": [
    "Take Aways from the top 10 positive and negative coefficients:\n",
    "- 'player1_PER' and 'Player2_PER' are the top 2 negative coefficients. This is incredibly suprising and does not make much sense to me. One would think that the players who play the most minutes would want to have a higher efficiency rating. Perhaps that teams who had their top players with very high PER caused the rest of their team to have very low PER. The top players are important, but it is still a team game and everyone needs to contribute. I am going to run more models and see if this is a trend. \n",
    "- Coaches seem very important. There are a number of coaches in both the top and bottom coefficients indicating that some coaches seem to make the playoffs very often, and some rarely make the playoffs. \n",
    "- The top 3 positive coefficients make sense. They are key statistics of players in the top 5 of their respective team. This is what I would expect. A lot of teams have 1 or 2 players that are very good. It is when you can add that 3rd player that a team really elevates. \n",
    "- If I was consulting an NBA executive, I would encourage them to hire Dave Joerger as he is an assistant coach, and most likely available for a head coaching job. There are other coached with high coefficients. If a team is looking for a new coach, this is a great way to make a short list and interview those coaches that seem to impact winning. "
   ]
  },
  {
   "cell_type": "markdown",
   "metadata": {},
   "source": [
    "I ran the a GridSearch on the PC features. What if I run the same GridSearch on all of my features? \n",
    "\n",
    "I want to see if there is any difference in the results or the coefficients. Since I am trying to decide what features are most important it is critical that I compare results and see if I missed anything in the model above. "
   ]
  },
  {
   "cell_type": "code",
   "execution_count": 26,
   "metadata": {},
   "outputs": [
    {
     "name": "stdout",
     "output_type": "stream",
     "text": [
      "Fitting 5 folds for each of 141 candidates, totalling 705 fits\n"
     ]
    },
    {
     "name": "stderr",
     "output_type": "stream",
     "text": [
      "[Parallel(n_jobs=-1)]: Using backend LokyBackend with 8 concurrent workers.\n",
      "[Parallel(n_jobs=-1)]: Done  56 tasks      | elapsed:    0.2s\n",
      "[Parallel(n_jobs=-1)]: Done 705 out of 705 | elapsed:    4.9s finished\n"
     ]
    },
    {
     "data": {
      "text/plain": [
       "GridSearchCV(estimator=Pipeline(steps=[('scale', StandardScaler()),\n",
       "                                       ('model', LogisticRegression())]),\n",
       "             n_jobs=-1,\n",
       "             param_grid=[{'model': [LogisticRegression(C=1)],\n",
       "                          'model__C': [1e-08, 1e-07, 1e-06, 1e-05, 0.0001,\n",
       "                                       0.001, 0.1, 1, 10, 100, 1000, 10000,\n",
       "                                       100000, 1000000, 10000000, 100000000,\n",
       "                                       1000000000],\n",
       "                          'model__penalty': ['l1', 'l2'],\n",
       "                          'scale': [StandardScaler(), MinMaxScaler(), None]},\n",
       "                         {'model': [DecisionTreeClassifier()],\n",
       "                          'model__max_depth': [1, 2, 3, 4, 5],\n",
       "                          'scale': [StandardScaler(), MinMaxScaler(), None]},\n",
       "                         {'model': [SVC()], 'model__C': [0.1, 1, 10, 100],\n",
       "                          'model__kernel': ['linear', 'rbf'],\n",
       "                          'scale': [StandardScaler(), MinMaxScaler(), None]}],\n",
       "             verbose=1)"
      ]
     },
     "execution_count": 26,
     "metadata": {},
     "output_type": "execute_result"
    }
   ],
   "source": [
    "# set up the (placeholder) pipeline \n",
    "pipeline2 = Pipeline([('scale', StandardScaler()),\n",
    "                    ('model', LogisticRegression())])\n",
    "\n",
    "# set up the parameter grid\n",
    "param_grid2 = [\n",
    "            {\n",
    "                'scale':[StandardScaler(), MinMaxScaler(), None],\n",
    "                'model':[LogisticRegression()],\n",
    "                'model__C': [.00000001,.0000001,.000001,.00001,.0001,.001,.1,\\\n",
    "                1,10,100,1000,10000,100000,1000000,10000000,100000000,1000000000],\n",
    "                'model__penalty': ['l1', 'l2']\n",
    "            },\n",
    "    {\n",
    "                'scale':[StandardScaler(), MinMaxScaler(), None],\n",
    "                'model':[DecisionTreeClassifier()],\n",
    "                'model__max_depth': [1,2,3,4,5]\n",
    "\n",
    "    },\n",
    "    {\n",
    "                'scale':[StandardScaler(), MinMaxScaler(), None],\n",
    "                'model':[SVC()],\n",
    "                'model__C': [0.1, 1, 10, 100],\n",
    "                'model__kernel': ['linear', 'rbf']\n",
    "\n",
    "    },\n",
    "]\n",
    "\n",
    "# instantiate the grid search\n",
    "my_gridsearch2 = GridSearchCV(pipeline2, param_grid2, n_jobs=-1, verbose=1)\n",
    "\n",
    "# fit the grid search\n",
    "my_gridsearch2.fit(X_train, y_train)"
   ]
  },
  {
   "cell_type": "code",
   "execution_count": 27,
   "metadata": {},
   "outputs": [
    {
     "data": {
      "text/plain": [
       "{'model': LogisticRegression(C=1),\n",
       " 'model__C': 1,\n",
       " 'model__penalty': 'l2',\n",
       " 'scale': MinMaxScaler()}"
      ]
     },
     "execution_count": 27,
     "metadata": {},
     "output_type": "execute_result"
    }
   ],
   "source": [
    "# showing best parameters \n",
    "my_gridsearch2.best_params_"
   ]
  },
  {
   "cell_type": "code",
   "execution_count": 28,
   "metadata": {},
   "outputs": [
    {
     "name": "stdout",
     "output_type": "stream",
     "text": [
      "0.9299847792998478\n",
      "0.908675799086758\n"
     ]
    }
   ],
   "source": [
    "print(my_gridsearch2.score(X_train, y_train))\n",
    "print(my_gridsearch2.score(X_test, y_test))"
   ]
  },
  {
   "cell_type": "markdown",
   "metadata": {},
   "source": [
    "The test score is slightly higher. It went from about 89% to 91%. This means the PCA did a great job of deciding what too keep. I still want to plot the coefficients to see if there are any changes because the coefficients are going to answer my question of what features drive success.\n",
    "\n",
    "It is also interesting to note that Logistic Regression still came out on top, but the hyper parameters were slightly different.\n",
    "\n",
    "Im going to run a Logistic model with those parameters, then plot the coefficients on a bar graph like it did above"
   ]
  },
  {
   "cell_type": "code",
   "execution_count": 29,
   "metadata": {},
   "outputs": [
    {
     "data": {
      "text/plain": [
       "LogisticRegression(C=1)"
      ]
     },
     "execution_count": 29,
     "metadata": {},
     "output_type": "execute_result"
    }
   ],
   "source": [
    "# use MinMaxScaler()\n",
    "# instantiate and fit to training data only\n",
    "mms = MinMaxScaler().fit(X_train)\n",
    "\n",
    "# instantiate\n",
    "logreg2 = LogisticRegression(C = 1, penalty = 'l2')\n",
    "\n",
    "# fit \n",
    "logreg2.fit(X_train, y_train)"
   ]
  },
  {
   "cell_type": "code",
   "execution_count": 30,
   "metadata": {},
   "outputs": [
    {
     "name": "stdout",
     "output_type": "stream",
     "text": [
      "0.9497716894977168\n",
      "0.8812785388127854\n"
     ]
    }
   ],
   "source": [
    "print(logreg2.score(X_train, y_train))\n",
    "print(logreg2.score(X_test, y_test))"
   ]
  },
  {
   "cell_type": "code",
   "execution_count": 33,
   "metadata": {},
   "outputs": [],
   "source": [
    "# building the dictionary of coefficients \n",
    "coef_dict2 = {}\n",
    "for coef, feat in zip(logreg2.coef_[0,:],X_train):\n",
    "    coef_dict2[feat] = coef"
   ]
  },
  {
   "cell_type": "code",
   "execution_count": 34,
   "metadata": {},
   "outputs": [],
   "source": [
    "# sorting the dictionary into a list, then changing back to a dictionary \n",
    "sorted_coef_dict2 = sorted(coef_dict2.items(), key=lambda x: x[1], reverse = True)\n",
    "\n",
    "# change back to dictionary \n",
    "sorted_coef_dict2 = dict(sorted_coef_dict2)"
   ]
  },
  {
   "cell_type": "code",
   "execution_count": 35,
   "metadata": {},
   "outputs": [
    {
     "data": {
      "image/png": "[encoded data removed]",
      "text/plain": [
       "<Figure size 432x288 with 1 Axes>"
      ]
     },
     "metadata": {
      "needs_background": "light"
     },
     "output_type": "display_data"
    }
   ],
   "source": [
    "# now creating the bar graphs \n",
    "import matplotlib.pyplot as plt\n",
    "import seaborn as sns\n",
    "keys = sorted_coef_dict2.keys()\n",
    "values = sorted_coef_dict2.values()\n",
    "\n",
    "coef_df2 = pd.DataFrame({'Feature': keys,\n",
    "                        'Coefficient': values})\n",
    "\n",
    "\n",
    "coef_df2.sort_values(by='Coefficient', ascending=False).head(10).set_index(\"Feature\").plot(kind=\"bar\", rot=45)\n",
    "plt.show()\n",
    "             "
   ]
  },
  {
   "cell_type": "code",
   "execution_count": 36,
   "metadata": {},
   "outputs": [
    {
     "data": {
      "text/plain": [
       "<Figure size 432x288 with 0 Axes>"
      ]
     },
     "metadata": {},
     "output_type": "display_data"
    },
    {
     "data": {
      "image/png": "[encoded data removed]",
      "text/plain": [
       "<Figure size 432x288 with 1 Axes>"
      ]
     },
     "metadata": {
      "needs_background": "light"
     },
     "output_type": "display_data"
    }
   ],
   "source": [
    "plt.figure()\n",
    "coef_df2.sort_values(by='Coefficient', ascending=False).tail(10).set_index(\"Feature\").plot(color = 'red', kind=\"bar\", rot=45)\n",
    "plt.show()"
   ]
  },
  {
   "cell_type": "markdown",
   "metadata": {},
   "source": [
    "Take Aways:\n",
    "- There are more team stats included when I used all the features. specifically the top 3 positive coefficients are ORtg, Rel ORtg, and SRS. \n",
    "- Pace is now in the top 10 coefficients. This is very interesting as there are a lot of debates on how important pace is (especially over the last 10 years). Some teams even base their whole philosophy on increasing pace and getting up and down the court as fast as possible. \n",
    "- Division is the 3 highest negative coefficient. Lets remember that the divisions were label encoded. \n",
    "- Rel Pace is also in the top 10 negative. This is confusing as it is very similar to pace. I think I am having some issues with multicolinearity which I discovered in my EDA.\n",
    "- AVG_PER is one of the top 5 positive coefficients. This is no suprise and again makes a lot of sense. This is a measure of overall team performance. \n"
   ]
  },
  {
   "cell_type": "markdown",
   "metadata": {},
   "source": [
    "I want to look at all the coefficients and see if I can spot anything else that is interesting. "
   ]
  },
  {
   "cell_type": "code",
   "execution_count": 38,
   "metadata": {},
   "outputs": [
    {
     "data": {
      "text/plain": [
       "{'Rel ORtg': 1.4241494531382433,\n",
       " 'ORtg': 1.418026074637023,\n",
       " 'SRS': 1.1993029738648064,\n",
       " 'player2_PER': 0.74763434726484,\n",
       " 'Pace': 0.72600758428239,\n",
       " 'AVG_PER': 0.6671618122038742,\n",
       " 'player6_PER': 0.5936138365211667,\n",
       " 'K. Loughery ': 0.5678954488091781,\n",
       " 'E. Jordan ': 0.439329214952573,\n",
       " 'player8_TSP': 0.42169499663084054,\n",
       " 'L. Drew ': 0.4087215062783887,\n",
       " 'T. Stotts ': 0.4057485082362654,\n",
       " 'player3_PER': 0.4042472588094747,\n",
       " 'player4_PER': 0.40142848826225747,\n",
       " 'player9_PER': 0.35316989827280226,\n",
       " 'T. Floyd ': 0.34894462925696923,\n",
       " 'V. Del Negro ': 0.3398947500124485,\n",
       " 'L. Hollins ': 0.2916301786330681,\n",
       " 'K. McHale ': 0.28201975139749275,\n",
       " \"J. O'Brien \": 0.279504633112203,\n",
       " 'D. Versace ': 0.2765212092443033,\n",
       " 'player3_TSP': 0.2753131523857132,\n",
       " 'T. Lue ': 0.2649396644197391,\n",
       " 'P. Jackson ': 0.2541422852710041,\n",
       " 'R. Pfund ': 0.25350722303434187,\n",
       " 'D. Rivers ': 0.2517737021351639,\n",
       " 'D. Joerger ': 0.24148140344903202,\n",
       " 'B. Fitch ': 0.2304753032740923,\n",
       " 'I. Thomas ': 0.22898440409182247,\n",
       " 'D. Cowens ': 0.226137092242597,\n",
       " \"M. D'Antoni \": 0.22529091750277086,\n",
       " 'player5_TSP': 0.2156847030668558,\n",
       " 'G. St. Jean ': 0.2146622232087832,\n",
       " 'M. Woodson ': 0.2090637334829793,\n",
       " 'M. Jackson ': 0.1901002599462988,\n",
       " 'C. Fitzsimmons ': 0.18898066416251008,\n",
       " 'B. Hill ': 0.18784596783530189,\n",
       " 'C. Ford ': 0.18735890257705293,\n",
       " 'M. Brown ': 0.1781631401494767,\n",
       " 'K. Jones ': 0.1769940464853205,\n",
       " 'B. Donovan ': 0.17543804222394022,\n",
       " 'J. Kidd ': 0.17057838698237698,\n",
       " 'M. Curry ': 0.16492747931693222,\n",
       " 'P. Riley ': 0.16047778589017414,\n",
       " 'L. Wilkens ': 0.15648467905933694,\n",
       " 'player12_TSP': 0.15465794713719455,\n",
       " 'K. Atkinson ': 0.14891352230822816,\n",
       " 'S. Jackson ': 0.14773934412901754,\n",
       " 'player9_TSP': 0.1444107123546356,\n",
       " 'B. Stevens ': 0.1443841055808868,\n",
       " 'M. Budenholzer ': 0.14413142496889148,\n",
       " 'G. Karl ': 0.14078812429809245,\n",
       " 'J. Bzdelik ': 0.12789224133683993,\n",
       " 'L. Frank ': 0.11040412220823077,\n",
       " 'J. Tarkanian ': 0.1071395102380798,\n",
       " 'player7_TSP': 0.08670895574997207,\n",
       " 'player4_TSP': 0.0840852994425663,\n",
       " 'D. Chaney ': 0.08339634409311086,\n",
       " 'H. Brown ': 0.08020876069445959,\n",
       " 'D. Ainge ': 0.07419487530231149,\n",
       " 'player10_TSP': 0.06983899155760304,\n",
       " 'F. Saunders ': 0.0698223670148235,\n",
       " 'S. Mitchell ': 0.06724456351698208,\n",
       " 'M. Schuler ': 0.057633387366031054,\n",
       " 'A. Bristow ': 0.05595920647267721,\n",
       " 'B. Scott ': 0.05437777342870476,\n",
       " 'J. Sloan ': 0.0506054165637128,\n",
       " 'player1_PER': 0.04164610214045792,\n",
       " 'F. Johnson ': 0.037858894194808757,\n",
       " 'player10_PER': 0.03771684362215309,\n",
       " 'L. Bird ': 0.027055169267513828,\n",
       " 'A. Johnson ': 0.024322764216939154,\n",
       " 'S. Skiles ': 0.02278607201274854,\n",
       " 'AVG_TSP': 0.01950045249703146,\n",
       " 'C. Daly ': 0.013310070807302536,\n",
       " 'B. Brown ': 0.007252820258294501,\n",
       " 'D. Blatt ': 0.00433156841267131,\n",
       " 'B. Weiss ': 0.0022504205830522735,\n",
       " 'S. Kerr ': 0.0006626256046108486,\n",
       " 'N. Nurse ': 0.00043701148257094914,\n",
       " 'B. Hanzlik ': 0.0,\n",
       " 'D. Walker ': 0.0,\n",
       " 'J. Cleamons ': 0.0,\n",
       " 'J. Rodgers ': 0.0,\n",
       " \"K. O'Neill \": 0.0,\n",
       " 'L. Hamilton ': 0.0,\n",
       " 'L. Krystkowiak ': 0.0,\n",
       " 'M. Dunlap ': 0.0,\n",
       " 'B. Winters ': -2.5096971300898273e-06,\n",
       " 'Q. Buckner ': -4.223287366387455e-05,\n",
       " 'R. Theus ': -4.992888766011802e-05,\n",
       " 'J. Beilein ': -0.00022054888864485436,\n",
       " 'B. Malone ': -0.00036444782034959647,\n",
       " 'K. Rambis ': -0.0005953268879789947,\n",
       " 'I. Kokoskov ': -0.0006028312838957862,\n",
       " 'S. Lowe ': -0.0006466030403460407,\n",
       " 'M. Carr ': -0.0008769259302798538,\n",
       " 'F. Carter ': -0.0011099090764002313,\n",
       " 'P. Westhead ': -0.0014679237342923826,\n",
       " 'L. Pierce ': -0.003011539557553249,\n",
       " 'B. Blair ': -0.003016417140347372,\n",
       " 'K. Smart ': -0.004932380246735661,\n",
       " 'M. Iavaroni ': -0.0057318933160731,\n",
       " 'R. Rothstein ': -0.0057752589027238324,\n",
       " 'R. Adubato ': -0.006426966439699412,\n",
       " 'G. Littles ': -0.006634260588902215,\n",
       " 'D. Moe ': -0.006724338824735306,\n",
       " 'B. Cartwright ': -0.007703907508633201,\n",
       " 'J. Lucas ': -0.009344018225854994,\n",
       " 'D. Motta ': -0.013162435618870564,\n",
       " 'J. Kuester ': -0.016389117358803836,\n",
       " 'E. Watson ': -0.016951608890359456,\n",
       " 'D. Fizdale ': -0.017768430543271877,\n",
       " 'M. Dunleavy ': -0.021406975524393787,\n",
       " 'J. Vaughn ': -0.023089300239169167,\n",
       " 'L. Kruger ': -0.0263055326467143,\n",
       " 'S. Clifford ': -0.02639078058889053,\n",
       " 'R. Saunders ': -0.028462524605004837,\n",
       " 'B. Carter ': -0.02905502280505359,\n",
       " 'J. Calipari ': -0.0300469218967958,\n",
       " 'S. Vincent ': -0.032307997462258646,\n",
       " 'G. Heard ': -0.035880424562118284,\n",
       " 'P. Westphal ': -0.03761087033535694,\n",
       " 'W. Unseld ': -0.039780027444315566,\n",
       " 'T. Porter ': -0.05324488786171678,\n",
       " 'D. Harris ': -0.053516616810678604,\n",
       " 'B. Shaw ': -0.057334165222104425,\n",
       " 'T. Corbin ': -0.06312501348558174,\n",
       " 'player11_TSP': -0.06349133960818693,\n",
       " 'J. Davis ': -0.07316744523289148,\n",
       " 'M. Cheeks ': -0.07416393262674095,\n",
       " 'B. Beard ': -0.08868128140500824,\n",
       " 'R. Wittman ': -0.09075495879686296,\n",
       " 'P. Carlesimo ': -0.09268206637654687,\n",
       " 'J. Lynam ': -0.09438610935503619,\n",
       " 'J. Bickerstaff ': -0.10017056834211922,\n",
       " 'D. Fisher ': -0.10498668041536235,\n",
       " 'E. Spoelstra ': -0.10611733958993227,\n",
       " 'B. Musselman ': -0.10712645429520282,\n",
       " 'J. Boylen ': -0.11427243214902887,\n",
       " 'J. Triano ': -0.11455978683404948,\n",
       " 'T. Thibodeau ': -0.1174885017548138,\n",
       " 'J. Borrego ': -0.12222885459817602,\n",
       " 'S. Brooks ': -0.12890165622511737,\n",
       " 'R. Ayers ': -0.13021153755620024,\n",
       " 'N. McMillan ': -0.13202013031831147,\n",
       " 'R. Carlisle ': -0.13573888176448842,\n",
       " 'J. Van Gundy ': -0.14637613139547584,\n",
       " 'player7_PER': -0.1480866943238668,\n",
       " 'R. Tomjanovich ': -0.14856109704907133,\n",
       " 'M. Montgomery ': -0.15747158363206198,\n",
       " 'G. Irvine ': -0.16067669908302235,\n",
       " 'L. Brown ': -0.16268527615101028,\n",
       " 'F. Hoiberg ': -0.16407793944686236,\n",
       " 'M. Williams ': -0.16867190022336426,\n",
       " 'A. Gentry ': -0.171309921157853,\n",
       " 'P. Silas ': -0.1771327626526847,\n",
       " 'D. Issel ': -0.1780782811426896,\n",
       " 'S. Van Gundy ': -0.188511570649598,\n",
       " 'R. Adelman ': -0.19276227624099773,\n",
       " 'E. Musselman ': -0.21957684892684864,\n",
       " 'D. Nelson ': -0.2290111900343993,\n",
       " 'M. Fratello ': -0.2302177940124321,\n",
       " 'player1_TSP': -0.23174890091067873,\n",
       " 'T. Jenkins ': -0.2354498385652429,\n",
       " 'G. Popovich ': -0.24091755208350527,\n",
       " 'player5_PER': -0.2466826924536486,\n",
       " 'playe11_PER': -0.2623112593106231,\n",
       " 'B. Bickerstaff ': -0.28673627147439457,\n",
       " 'D. Casey ': -0.29414071291566785,\n",
       " 'R. Pitino ': -0.3383569491781769,\n",
       " 'player8_PER': -0.34541997265434354,\n",
       " 'L. Walton ': -0.3621210518847886,\n",
       " 'J. Hornacek ': -0.38933900978821034,\n",
       " 'D. Collins ': -0.390425346698063,\n",
       " 'player6_TSP': -0.39845481493368984,\n",
       " 'player12_PER': -0.40447861229102977,\n",
       " 'M. Guokas ': -0.4066605325067975,\n",
       " 'M. Malone ': -0.42907208090596943,\n",
       " 'player2_TSP': -0.43261550336083915,\n",
       " 'F. Vogel ': -0.4409183101763524,\n",
       " 'Q. Snyder ': -0.47152710215676,\n",
       " 'Rel Pace': -0.5564154189605389,\n",
       " 'Division': -0.5752266746371236,\n",
       " 'DRtg': -1.8549234489732935,\n",
       " 'Rel DRtg': -2.5457398657795554}"
      ]
     },
     "execution_count": 38,
     "metadata": {},
     "output_type": "execute_result"
    }
   ],
   "source": [
    "sorted_coef_dict2"
   ]
  },
  {
   "cell_type": "markdown",
   "metadata": {},
   "source": [
    "- AVG_TSP is positive, but not very high. This indicates that true shooting percentage is not as important as one might think. It also makes sense becasue there are other factors on offense that influence a teams offensive production. For example, if a team is getting offensive rebounds at a high rate, this could bring down there shooting percentage, but bring up there overall offensive production. "
   ]
  },
  {
   "cell_type": "markdown",
   "metadata": {},
   "source": [
    "### Model Evaluation\n",
    "\n",
    "Although my ultimate goal was not to make the perfect model, but rather find out what statistics drive sucess, I still want to evaluate this model and to get an idea of how valid my finding are. \n",
    "\n",
    "In the cells below I will calculate precision and recall, as well as produce a confusion matrix for the last model I ran. That is the model I believe to be the best. "
   ]
  },
  {
   "cell_type": "code",
   "execution_count": 42,
   "metadata": {},
   "outputs": [
    {
     "data": {
      "text/plain": [
       "<sklearn.metrics._plot.confusion_matrix.ConfusionMatrixDisplay at 0x22537a83280>"
      ]
     },
     "execution_count": 42,
     "metadata": {},
     "output_type": "execute_result"
    },
    {
     "data": {
      "image/png": "[encoded data removed]",
      "text/plain": [
       "<Figure size 432x288 with 2 Axes>"
      ]
     },
     "metadata": {
      "needs_background": "light"
     },
     "output_type": "display_data"
    }
   ],
   "source": [
    "from sklearn.metrics import confusion_matrix\n",
    "from sklearn.metrics import plot_confusion_matrix\n",
    "\n",
    "y_pred = logreg2.predict(X_test)\n",
    "plot_confusion_matrix(logreg2, X_test, y_test)"
   ]
  },
  {
   "cell_type": "code",
   "execution_count": 44,
   "metadata": {},
   "outputs": [
    {
     "data": {
      "text/plain": [
       "(array([0, 1], dtype=int64), array([ 99, 120], dtype=int64))"
      ]
     },
     "execution_count": 44,
     "metadata": {},
     "output_type": "execute_result"
    }
   ],
   "source": [
    "np.unique(y_test, return_counts=True)"
   ]
  },
  {
   "cell_type": "markdown",
   "metadata": {},
   "source": [
    "Results: \n",
    "- Pretty good. The False positive is a little higher than I would like it to be. My model is predicting more teams to make the playoffs than actually make it. \n",
    "\n",
    "Next I will create a classification report to show precision and recall. "
   ]
  },
  {
   "cell_type": "code",
   "execution_count": 45,
   "metadata": {},
   "outputs": [
    {
     "name": "stdout",
     "output_type": "stream",
     "text": [
      "              precision    recall  f1-score   support\n",
      "\n",
      "           0       0.89      0.84      0.86        99\n",
      "           1       0.87      0.92      0.89       120\n",
      "\n",
      "    accuracy                           0.88       219\n",
      "   macro avg       0.88      0.88      0.88       219\n",
      "weighted avg       0.88      0.88      0.88       219\n",
      "\n"
     ]
    }
   ],
   "source": [
    "from sklearn.metrics import classification_report\n",
    "\n",
    "precision_recall_report = classification_report(y_test, y_pred)\n",
    "print(precision_recall_report)"
   ]
  },
  {
   "cell_type": "markdown",
   "metadata": {},
   "source": [
    "I am very happy with the results here. The model has struck a great balance between precision and recall. \n",
    "Precision:\n",
    "- 89% of the teams that I predicted would not make the playoffs did not make it\n",
    "- 87% of the teams that I predicted would make the playpoffs made it. \n",
    "Recall: \n",
    "- The model captured 84% of all the teams that didnt make the playoffs. \n",
    "- The model captured 92% of all the teams that did make the playoffs. \n",
    "\n",
    "The model put more teams in the playoffs than it should have, but over all the results are very good. F1 scores close to 90%, I think this model did great with the data provided. "
   ]
  },
  {
   "cell_type": "markdown",
   "metadata": {},
   "source": [
    " ### Conclusion\n",
    " \n",
    " I feel that because my data set is not too large, the best model is the one that includes all of the features. The coefficients make more sense and give back some actionable insights. Here are my key recomendations to NBA executives. \n",
    " \n",
    " 1. Coaches matter. Across all modeling coaches were a huge factor. We can use this data to make a short list of coaches that have the biggest impact on winning and then target those coaches. \n",
    " 2. Offense Rules. ORtg and Rel ORtg are the top 2 positive coefficients in the best model. This furthers the notion that it is an offensive league and teams cannot rely on strong defense to win. in order to be sucessful, offense should be the number one priority. Instead of going after players who are defensive minded, focus on those players that have a history of being pruductive on offense.\n",
    " 3. The top 3 players are incredibly important and they must have a high PER. player3_PER didnt make the top 10 positive coefficients, but it was number 13. This tells us that the third player is incredibly important. A lot of teams have 1 or 2 great players. Adding that third player is a major key to success.\n",
    " 4. Pace: It is important, but do not let it rule your philosophy. I got mixed results in determining if this was a big factor. I suspect that depending on the make up of your team, this could have a positive or negative impact. My recomendation is to hire a coach with a good track record, and let him decide how much emphasis to put on pace. "
   ]
  }
 ],
 "metadata": {
  "kernelspec": {
   "display_name": "Python 3",
   "language": "python",
   "name": "python3"
  },
  "language_info": {
   "codemirror_mode": {
    "name": "ipython",
    "version": 3
   },
   "file_extension": ".py",
   "mimetype": "text/x-python",
   "name": "python",
   "nbconvert_exporter": "python",
   "pygments_lexer": "ipython3",
   "version": "3.8.5"
  }
 },
 "nbformat": 4,
 "nbformat_minor": 4
}
